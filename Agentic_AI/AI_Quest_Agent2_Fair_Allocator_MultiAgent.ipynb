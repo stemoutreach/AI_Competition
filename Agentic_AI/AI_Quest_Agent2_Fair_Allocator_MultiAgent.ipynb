{
 "cells": [
  {
   "cell_type": "markdown",
   "id": "54aaf32e",
   "metadata": {},
   "source": [
    "# AI Quest — Agentic AI Problem 2  \n",
    "**Title:** Multi‑Agent Fair Scholarship Allocator (Game‑Theoretic Negotiation)\n",
    "\n",
    "## Scenario\n",
    "You must award a limited number of scholarships. Build a **multi‑agent system**:\n",
    "- **Selector Agent** proposes an allocation based on a composite merit score.\n",
    "- **Auditor Agent** checks **budget and fairness** constraints and explains disparities.\n",
    "- **Negotiator Agent** iteratively adjusts thresholds to improve utility **and** fairness.\n",
    "\n",
    "## Objectives\n",
    "- Implement a negotiation loop (best‑response or heuristic search)\n",
    "- Respect **budget** and maintain **fairness**: group allocation rates within ±15% of overall rate\n",
    "- Log every proposal/critique/change (transparency)\n",
    "- Provide final allocation + explanation for trade‑offs (accountability & human agency)\n",
    "\n",
    "## Deliverables\n",
    "- Working notebook with 3 agents, logs, final allocation vector\n",
    "- Markdown summary of ethics: transparency, fairness, explainability, override policy\n",
    "\n",
    "## Scoring (auto-checked in notebook)\n",
    "- Meets budget exactly (20 pts)\n",
    "- Overall utility score ≥ baseline greedy (20 pts)\n",
    "- Group allocation rate gap ≤ 0.15 (20 pts)\n",
    "- ≥ 8 negotiation turns logged (20 pts)\n",
    "- Markdown ethics summary present (20 pts)\n",
    "\n",
    "**Total:** 100 pts"
   ]
  },
  {
   "cell_type": "code",
   "execution_count": null,
   "id": "775c906f",
   "metadata": {},
   "outputs": [],
   "source": [
    "import numpy as np, pandas as pd\n",
    "RANDOM_SEED = 23\n",
    "np.random.seed(RANDOM_SEED)\n",
    "\n",
    "# Synthetic applicants\n",
    "n = 400\n",
    "group = np.random.choice([\"A\",\"B\"], size=n, p=[0.55,0.45])\n",
    "g_score = np.where(group==\"A\", np.random.normal(0.1,1.0,size=n), np.random.normal(0.0,1.0,size=n))\n",
    "merit = 0.6*np.random.normal(0,1,size=n) + 0.4*g_score + 0.5*np.random.normal(0,1,size=n)\n",
    "need = np.clip(np.random.normal(0.5,0.2,size=n),0,1)\n",
    "composite = 0.7*merit + 0.3*(1-need)  # prefer merit; lower need slightly increases score\n",
    "\n",
    "BUDGET = 80  # scholarships to award\n",
    "\n",
    "df = pd.DataFrame({\"group\":group, \"merit\":merit, \"need\":need, \"score\":composite})\n",
    "df.head()"
   ]
  },
  {
   "cell_type": "markdown",
   "id": "a477eb2f",
   "metadata": {},
   "source": [
    "## Baseline greedy (Selector only)"
   ]
  },
  {
   "cell_type": "code",
   "execution_count": null,
   "id": "271a975f",
   "metadata": {},
   "outputs": [],
   "source": [
    "baseline = df.sort_values(\"score\", ascending=False).head(BUDGET)\n",
    "baseline_util = baseline[\"score\"].sum()\n",
    "baseline_rate = BUDGET/len(df)\n",
    "print({\"baseline_util\": float(baseline_util), \"overall_rate\": float(baseline_rate)})"
   ]
  },
  {
   "cell_type": "markdown",
   "id": "cc6f2a80",
   "metadata": {},
   "source": [
    "## Agents"
   ]
  },
  {
   "cell_type": "code",
   "execution_count": null,
   "id": "bf3eac11",
   "metadata": {},
   "outputs": [],
   "source": [
    "class SelectorAgent:\n",
    "    def __init__(self, df): self.df = df\n",
    "    def propose(self, th):\n",
    "        sel = (self.df[\"score\"] >= th).astype(int)\n",
    "        # ensure budget by top-up/trim\n",
    "        k = sel.sum()\n",
    "        if k > BUDGET:\n",
    "            # trim lowest scores among selected\n",
    "            chosen = self.df[sel==1].sort_values(\"score\", ascending=False).head(BUDGET).index\n",
    "            sel = np.zeros(len(self.df), dtype=int); sel[chosen] = 1\n",
    "        elif k < BUDGET:\n",
    "            # top up by highest unselected\n",
    "            need = BUDGET - k\n",
    "            topup = self.df[sel==0].sort_values(\"score\", ascending=False).head(need).index\n",
    "            sel[topup] = 1\n",
    "        return sel\n",
    "\n",
    "class AuditorAgent:\n",
    "    def __init__(self, df): self.df = df\n",
    "    def critique(self, sel):\n",
    "        util = self.df.loc[sel==1, \"score\"].sum()\n",
    "        overall_rate = sel.mean()\n",
    "        rates = self.df.assign(sel=sel).groupby(\"group\")[\"sel\"].mean().to_dict()\n",
    "        gap = abs(rates[\"A\"]-overall_rate) + abs(rates[\"B\"]-overall_rate)\n",
    "        # fairness gap metric: sum of absolute deviations from overall rate\n",
    "        return {\"util\": float(util), \"overall_rate\": float(overall_rate), \"rates\": rates, \"gap\": float(gap)}\n",
    "\n",
    "class NegotiatorAgent:\n",
    "    def __init__(self, start_th): self.th = start_th\n",
    "    def step(self, audit):\n",
    "        # if group A rate > overall, raise threshold slightly; if B < overall, lower threshold\n",
    "        adj = 0.0\n",
    "        if audit[\"rates\"][\"A\"] > audit[\"overall_rate\"]: adj += 0.03\n",
    "        if audit[\"rates\"][\"B\"] < audit[\"overall_rate\"]: adj -= 0.03\n",
    "        self.th = max(min(self.th + adj, 1.0), -3.0)\n",
    "        return self.th"
   ]
  },
  {
   "cell_type": "markdown",
   "id": "216656f6",
   "metadata": {},
   "source": [
    "## Negotiation loop"
   ]
  },
  {
   "cell_type": "code",
   "execution_count": null,
   "id": "9e72411b",
   "metadata": {},
   "outputs": [],
   "source": [
    "log = []\n",
    "sel = SelectorAgent(df)\n",
    "aud = AuditorAgent(df)\n",
    "neg = NegotiatorAgent(start_th = df[\"score\"].quantile(1 - BUDGET/len(df)))\n",
    "\n",
    "best = {\"sel\": None, \"audit\": None}\n",
    "for t in range(12):\n",
    "    selection = sel.propose(neg.th)\n",
    "    audit = aud.critique(selection)\n",
    "    log.append({\"t\": t, \"threshold\": float(neg.th), **audit})\n",
    "    # stop if fairness gap small\n",
    "    if max(abs(audit[\"rates\"][\"A\"]-audit[\"overall_rate\"]), abs(audit[\"rates\"][\"B\"]-audit[\"overall_rate\"])) <= 0.15:\n",
    "        best = {\"sel\": selection, \"audit\": audit}; break\n",
    "    # otherwise adjust\n",
    "    neg.step(audit)\n",
    "    # track best by utility with low gap\n",
    "    if best[\"audit\"] is None or (audit[\"util\"]>best[\"audit\"][\"util\"] and audit[\"gap\"]<=0.30):\n",
    "        best = {\"sel\": selection, \"audit\": audit}\n",
    "\n",
    "# ensure best exists\n",
    "if best[\"sel\"] is None:\n",
    "    best = {\"sel\": selection, \"audit\": audit}\n",
    "\n",
    "final_sel = best[\"sel\"]\n",
    "final_audit = best[\"audit\"]\n",
    "util = final_audit[\"util\"]\n",
    "rate_gap = max(abs(final_audit[\"rates\"][\"A\"]-final_audit[\"overall_rate\"]), abs(final_audit[\"rates\"][\"B\"]-final_audit[\"overall_rate\"]))\n",
    "\n",
    "print(\"Final:\", {\"util\": util, \"rate_gap\": rate_gap, \"budget_met\": int(final_sel.sum())==BUDGET})\n",
    "print(\"Turns:\", len(log))"
   ]
  },
  {
   "cell_type": "markdown",
   "id": "78765445",
   "metadata": {},
   "source": [
    "## Ethics summary (Markdown)"
   ]
  },
  {
   "cell_type": "code",
   "execution_count": null,
   "id": "601592c7",
   "metadata": {},
   "outputs": [],
   "source": [
    "ethics_summary_claim = True  # set to True after you add your Markdown explanation"
   ]
  },
  {
   "cell_type": "code",
   "execution_count": null,
   "id": "05885e56",
   "metadata": {},
   "outputs": [],
   "source": [
    "# === Auto-Scoring ===\n",
    "score = 0\n",
    "budget_ok = (final_sel.sum()==BUDGET)\n",
    "if budget_ok: score += 20\n",
    "\n",
    "baseline_util = df.sort_values(\"score\", ascending=False).head(BUDGET)[\"score\"].sum()\n",
    "if util >= baseline_util: score += 20\n",
    "\n",
    "if rate_gap <= 0.15: score += 20\n",
    "\n",
    "if len(log) >= 8: score += 20\n",
    "\n",
    "if ethics_summary_claim: score += 20\n",
    "\n",
    "summary = {\"budget_met\": budget_ok, \"util\": float(util), \"baseline_util\": float(baseline_util), \"rate_gap\": float(rate_gap), \"turns\": len(log), \"score\": score}\n",
    "print(\"✅ Final Summary:\", summary)"
   ]
  }
 ],
 "metadata": {},
 "nbformat": 4,
 "nbformat_minor": 5
}
