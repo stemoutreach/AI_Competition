{
 "cells": [
  {
   "cell_type": "markdown",
   "metadata": {},
   "source": [
    "---\n",
    "\n",
    "## 🧠 Challenge 3: Emotion Translator\n",
    "\n",
    "**Scenario:**  \n",
    "You're evaluating a student support chatbot that provides technically correct, but emotionally distant responses. Your goal is to evaluate the emotional tone and reframe prompts to make the bot more empathetic.\n",
    "\n",
    "**Notebook Steps:**  \n",
    "1. Load the dataset of chatbot conversations.  \n",
    "2. Read through responses and evaluate tone.  \n",
    "3. Suggest improvements using markdown or code comments.  \n",
    "4. Propose improved prompt phrasing to add empathy.\n",
    "\n",
    "**Deliverables:**  \n",
    "- Review of at least 3 chatbot responses  \n",
    "- Suggestions for better tone or prompt structure  \n",
    "- Short write-up on the importance of empathy in AI systems\n"
   ]
  },
  {
   "cell_type": "markdown",
   "metadata": {},
   "source": [
    "# 🧠 Improve the Bot’s Empathy\n",
    "Evaluate chatbot responses and brainstorm prompt improvements."
   ]
  },
  {
   "cell_type": "code",
   "execution_count": null,
   "metadata": {},
   "outputs": [],
   "source": [
    "import pandas as pd\n",
    "df = pd.read_csv('chatbot_responses.csv')\n",
    "df.head()"
   ]
  },
  {
   "cell_type": "markdown",
   "metadata": {},
   "source": [
    "### ✏️ Tone Labeling & Evaluation\n",
    "Manually review tone issues and suggest better responses."
   ]
  },
  {
   "cell_type": "code",
   "execution_count": null,
   "metadata": {},
   "outputs": [],
   "source": [
    "for idx, row in df.iterrows():\n",
    "    print(f\"User: {row['user_input']}\")\n",
    "    print(f\"Bot: {row['bot_response']}\")\n",
    "    print(\"Suggested improvement: Add empathy and reassurance.\")\n",
    "    print('-'*40)\n",
    "    if idx > 2:\n",
    "        break"
   ]
  }
 ],
 "metadata": {
  "kernelspec": {
   "display_name": ".venv",
   "language": "python",
   "name": "python3"
  },
  "language_info": {
   "name": "python",
   "version": "3.12.11"
  }
 },
 "nbformat": 4,
 "nbformat_minor": 2
}
