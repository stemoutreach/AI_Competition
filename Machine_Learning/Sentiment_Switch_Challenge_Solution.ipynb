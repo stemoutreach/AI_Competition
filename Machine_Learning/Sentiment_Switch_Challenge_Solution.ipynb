{
 "cells": [
  {
   "cell_type": "markdown",
   "metadata": {},
   "source": [
    "---\n",
    "\n",
    "## 🧮 Challenge 2: Sentiment Switch\n",
    "\n",
    "**Scenario:**  \n",
    "You’ve inherited a sentiment classifier trained on movie reviews, but your team needs it to analyze product reviews. Your job is to curate a small training set and evaluate performance before and after adaptation.\n",
    "\n",
    "**Notebook Steps:**  \n",
    "1. Load product review data and inspect samples.  \n",
    "2. Run several reviews through the existing model to evaluate fit.  \n",
    "3. Select 5–10 balanced examples for fine-tuning.  \n",
    "4. (Optional) Apply model adaptation using the sample function.\n",
    "\n",
    "**Deliverables:**  \n",
    "- Labeled product review samples  \n",
    "- Comparison of model predictions before/after adaptation  \n",
    "- Explanation of adaptation decisions and impact on task relevance\n"
   ]
  },
  {
   "cell_type": "markdown",
   "metadata": {},
   "source": [
    "# 🧮 Retarget a Text Classifier\n",
    "Here, we adapt a sentiment classifier trained on movies to classify product reviews."
   ]
  },
  {
   "cell_type": "code",
   "execution_count": null,
   "metadata": {},
   "outputs": [],
   "source": [
    "import pandas as pd\n",
    "\n",
    "df = pd.read_csv('product_reviews.csv')\n",
    "df.head()"
   ]
  },
  {
   "cell_type": "markdown",
   "metadata": {},
   "source": [
    "### 🔍 Sample Prompt Testing\n",
    "Run some example reviews through the existing model to test performance."
   ]
  },
  {
   "cell_type": "code",
   "execution_count": null,
   "metadata": {},
   "outputs": [],
   "source": [
    "# from transformers import pipeline\n",
    "# sentiment_model = pipeline('sentiment-analysis')\n",
    "# examples = df['text'].sample(3).tolist()\n",
    "# for review in examples:\n",
    "#     print(review)\n",
    "#     print(sentiment_model(review))"
   ]
  }
 ],
 "metadata": {
  "kernelspec": {
   "display_name": ".venv",
   "language": "python",
   "name": "python3"
  },
  "language_info": {
   "name": "python",
   "version": "3.12.11"
  }
 },
 "nbformat": 4,
 "nbformat_minor": 2
}
