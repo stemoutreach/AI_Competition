{
 "cells": [
  {
   "cell_type": "markdown",
   "id": "97cc847a",
   "metadata": {},
   "source": [
    "# Data Science 101 — Getting Started with Jupyter & Pandas\n",
    "**Date:** 2025-09-03\n",
    "\n",
    "Welcome! This notebook introduces:\n",
    "- How Jupyter notebooks work (cells, markdown, code, running).\n",
    "- Essential Python + pandas for data analysis.\n",
    "- Analyzing a few **simple datasets** (grades, sales, weather).\n",
    "- Plotting with matplotlib.\n",
    "- A short **mini‑project** at the end.\n",
    "\n",
    "> Keep the CSV files (``students_grades.csv``, ``mini_sales.csv``, ``tiny_weather.csv``) in the **same folder** as this notebook for easy loading.\n"
   ]
  },
  {
   "cell_type": "markdown",
   "id": "14bef9ba",
   "metadata": {},
   "source": [
    "## 1) How to use this notebook\n",
    "- A notebook is made of **cells**. There are two main types:\n",
    "  - **Markdown cells** (like this one) for text and instructions.\n",
    "  - **Code cells** (Python code you can run).\n",
    "- To **run a cell**: Click inside it and press **Shift+Enter** (or use the ▶️ button in the toolbar).\n",
    "- You can **edit** any cell. If something breaks, just re‑run the earlier cells.\n",
    "- Tip: Use **Undo** (Cmd/Ctrl+Z) if you change something by accident.\n"
   ]
  },
  {
   "cell_type": "markdown",
   "id": "5e5df275",
   "metadata": {},
   "source": [
    "## 2) Quick Python refresh"
   ]
  },
  {
   "cell_type": "code",
   "execution_count": null,
   "id": "81f3e4d5",
   "metadata": {},
   "outputs": [],
   "source": [
    "# Variables\n",
    "message = \"Hello, Data Science!\"\n",
    "year = 2025\n",
    "print(message, year)\n",
    "\n",
    "# Lists and dicts\n",
    "fruits = [\"apple\", \"banana\", \"cherry\"]\n",
    "facts = {\"pi\": 3.1416, \"e\": 2.718}\n",
    "print(fruits[1], facts[\"pi\"])"
   ]
  },
  {
   "cell_type": "code",
   "execution_count": null,
   "id": "95307b78",
   "metadata": {},
   "outputs": [],
   "source": [
    "# Loops & conditions\n",
    "nums = [3, 7, 2, 9, 4]\n",
    "total = 0\n",
    "for n in nums:\n",
    "    if n % 2 == 1:\n",
    "        total += n\n",
    "total"
   ]
  },
  {
   "cell_type": "markdown",
   "id": "98545252",
   "metadata": {},
   "source": [
    "## 3) Meet pandas (DataFrames)\n",
    "**pandas** is the most common Python library for working with tables (spreadsheets/CSV).\n",
    "- We'll also use **matplotlib** for charts.\n",
    "- Run the setup cell below (it installs if needed)."
   ]
  },
  {
   "cell_type": "code",
   "execution_count": null,
   "id": "2b65cab6",
   "metadata": {},
   "outputs": [],
   "source": [
    "# Setup: import pandas and matplotlib (installs if missing)\n",
    "try:\n",
    "    import pandas as pd\n",
    "    import matplotlib.pyplot as plt\n",
    "except Exception as e:\n",
    "    !pip -q install pandas matplotlib\n",
    "    import pandas as pd\n",
    "    import matplotlib.pyplot as plt\n",
    "\n",
    "pd.__version__"
   ]
  },
  {
   "cell_type": "markdown",
   "id": "84cf10e0",
   "metadata": {},
   "source": [
    "## 4) Dataset #1 — Student grades\n",
    "File: `students_grades.csv`\n",
    "\n",
    "**Goal:** Explore averages, distributions, and simple relationships (e.g., absences vs scores).\n"
   ]
  },
  {
   "cell_type": "code",
   "execution_count": null,
   "id": "89ab1d4e",
   "metadata": {},
   "outputs": [],
   "source": [
    "import pandas as pd\n",
    "grades = pd.read_csv(\"students_grades.csv\")\n",
    "grades.head()"
   ]
  },
  {
   "cell_type": "code",
   "execution_count": null,
   "id": "021d039c",
   "metadata": {},
   "outputs": [],
   "source": [
    "# Basic info & summary stats\n",
    "grades.info()\n",
    "grades.describe(numeric_only=True)"
   ]
  },
  {
   "cell_type": "code",
   "execution_count": null,
   "id": "0d1cdeb9",
   "metadata": {},
   "outputs": [],
   "source": [
    "# Simple computed columns\n",
    "grades[\"avg_score\"] = grades[[\"math\",\"science\",\"english\"]].mean(axis=1)\n",
    "grades[[\"name\",\"avg_score\",\"absences\"]].head()"
   ]
  },
  {
   "cell_type": "code",
   "execution_count": null,
   "id": "2236bd7d",
   "metadata": {},
   "outputs": [],
   "source": [
    "# Plot: avg_score distribution (histogram)\n",
    "import matplotlib.pyplot as plt\n",
    "grades[\"avg_score\"].plot(kind=\"hist\", bins=5, title=\"Average Score Distribution\")\n",
    "plt.xlabel(\"avg_score\")\n",
    "plt.show()"
   ]
  },
  {
   "cell_type": "code",
   "execution_count": null,
   "id": "51ff42c1",
   "metadata": {},
   "outputs": [],
   "source": [
    "# Relationship: absences vs average score (scatter)\n",
    "grades.plot(kind=\"scatter\", x=\"absences\", y=\"avg_score\", title=\"Absences vs Avg Score\")\n",
    "plt.show()"
   ]
  },
  {
   "cell_type": "markdown",
   "id": "80699947",
   "metadata": {},
   "source": [
    "**Think about it**\n",
    "- Do more absences correlate with lower scores?\n",
    "- What other features might influence performance?\n"
   ]
  },
  {
   "cell_type": "markdown",
   "id": "b9282f97",
   "metadata": {},
   "source": [
    "## 5) Dataset #2 — Mini sales\n",
    "File: `mini_sales.csv`\n",
    "\n",
    "**Goal:** Compute revenue, summarize by region and product, and visualize totals.\n"
   ]
  },
  {
   "cell_type": "code",
   "execution_count": null,
   "id": "82f6ce15",
   "metadata": {},
   "outputs": [],
   "source": [
    "sales = pd.read_csv(\"mini_sales.csv\", parse_dates=[\"date\"])\n",
    "sales[\"revenue\"] = sales[\"units\"] * sales[\"unit_price\"]\n",
    "sales.head()"
   ]
  },
  {
   "cell_type": "code",
   "execution_count": null,
   "id": "dec01a62",
   "metadata": {},
   "outputs": [],
   "source": [
    "# Total revenue by product\n",
    "by_product = sales.groupby(\"product\")[\"revenue\"].sum().reset_index().sort_values(\"revenue\", ascending=False)\n",
    "by_product"
   ]
  },
  {
   "cell_type": "code",
   "execution_count": null,
   "id": "c9aa400d",
   "metadata": {},
   "outputs": [],
   "source": [
    "# Plot: revenue by product (bar)\n",
    "by_product.plot(kind=\"bar\", x=\"product\", y=\"revenue\", title=\"Revenue by Product\")\n",
    "plt.ylabel(\"Revenue\")\n",
    "plt.show()"
   ]
  },
  {
   "cell_type": "code",
   "execution_count": null,
   "id": "c53622a2",
   "metadata": {},
   "outputs": [],
   "source": [
    "# Revenue by region and product (pivot table)\n",
    "pivot = sales.pivot_table(index=\"region\", columns=\"product\", values=\"revenue\", aggfunc=\"sum\")\n",
    "pivot"
   ]
  },
  {
   "cell_type": "code",
   "execution_count": null,
   "id": "4fcd7b0e",
   "metadata": {},
   "outputs": [],
   "source": [
    "# Time series: revenue per day (line)\n",
    "by_day = sales.groupby(\"date\")[\"revenue\"].sum().reset_index()\n",
    "by_day.plot(kind=\"line\", x=\"date\", y=\"revenue\", title=\"Revenue by Day\")\n",
    "plt.ylabel(\"Revenue\")\n",
    "plt.show()"
   ]
  },
  {
   "cell_type": "markdown",
   "id": "c3093d21",
   "metadata": {},
   "source": [
    "## 6) Dataset #3 — Tiny weather\n",
    "File: `tiny_weather.csv`\n",
    "\n",
    "**Goal:** Work with dates and simple aggregations, then visualize temperature and precipitation.\n"
   ]
  },
  {
   "cell_type": "code",
   "execution_count": null,
   "id": "7210b706",
   "metadata": {},
   "outputs": [],
   "source": [
    "weather = pd.read_csv(\"tiny_weather.csv\", parse_dates=[\"date\"])\n",
    "weather.head()"
   ]
  },
  {
   "cell_type": "code",
   "execution_count": null,
   "id": "248bd369",
   "metadata": {},
   "outputs": [],
   "source": [
    "# Summary stats\n",
    "weather.describe(numeric_only=True)"
   ]
  },
  {
   "cell_type": "code",
   "execution_count": null,
   "id": "f59a3f37",
   "metadata": {},
   "outputs": [],
   "source": [
    "# Average temp and total precip for the week\n",
    "avg_temp = weather[\"temp_c\"].mean()\n",
    "total_precip = weather[\"precip_mm\"].sum()\n",
    "avg_temp, total_precip"
   ]
  },
  {
   "cell_type": "code",
   "execution_count": null,
   "id": "26a77068",
   "metadata": {},
   "outputs": [],
   "source": [
    "# Plot: temperature over time (line)\n",
    "weather.plot(kind=\"line\", x=\"date\", y=\"temp_c\", title=\"Temperature Over Time\")\n",
    "plt.ylabel(\"°C\")\n",
    "plt.show()"
   ]
  },
  {
   "cell_type": "code",
   "execution_count": null,
   "id": "51d8fba7",
   "metadata": {},
   "outputs": [],
   "source": [
    "# Plot: precipitation by day (bar)\n",
    "weather.plot(kind=\"bar\", x=\"date\", y=\"precip_mm\", title=\"Daily Precipitation (mm)\")\n",
    "plt.ylabel(\"mm\")\n",
    "plt.show()"
   ]
  },
  {
   "cell_type": "markdown",
   "id": "3260f50a",
   "metadata": {},
   "source": [
    "## 7) Data cleaning quick hits\n",
    "- Handling missing values\n",
    "- Converting data types\n",
    "- Renaming columns\n"
   ]
  },
  {
   "cell_type": "code",
   "execution_count": null,
   "id": "6a53908d",
   "metadata": {},
   "outputs": [],
   "source": [
    "# Example: introduce missing value then fill it\n",
    "grades_with_na = grades.copy()\n",
    "grades_with_na.loc[0, \"math\"] = None\n",
    "grades_with_na[\"math_filled\"] = grades_with_na[\"math\"].fillna(grades_with_na[\"math\"].median())\n",
    "grades_with_na.head()"
   ]
  },
  {
   "cell_type": "code",
   "execution_count": null,
   "id": "46bd8735",
   "metadata": {},
   "outputs": [],
   "source": [
    "# Renaming columns and type conversion\n",
    "sales2 = sales.rename(columns={\"unit_price\":\"unit_price_usd\"}).copy()\n",
    "sales2[\"units\"] = sales2[\"units\"].astype(\"int64\")\n",
    "sales2.dtypes"
   ]
  },
  {
   "cell_type": "markdown",
   "id": "21d42ad0",
   "metadata": {},
   "source": [
    "## 8) Mini‑project (choose one)\n",
    "**A. Grades challenge**  \n",
    "- Create a column `passed_math` (True/False) for score ≥ 70.  \n",
    "- Compute pass rates for each subject.  \n",
    "- Plot pass rate per subject.\n",
    "\n",
    "**B. Sales challenge**  \n",
    "- Which region generated the highest revenue?  \n",
    "- Which product sells best in each region?  \n",
    "- Plot revenue by region.\n",
    "\n",
    "**C. Weather challenge**  \n",
    "- Which day was warmest/coldest?  \n",
    "- Plot a combined chart that shows temperature and precipitation.  \n",
    "- What patterns do you notice?\n"
   ]
  },
  {
   "cell_type": "code",
   "execution_count": null,
   "id": "c7f44316",
   "metadata": {},
   "outputs": [],
   "source": [
    "# 👉 Your work here (duplicate this cell as needed)\n",
    "pass"
   ]
  },
  {
   "cell_type": "markdown",
   "id": "6b3164f4",
   "metadata": {},
   "source": [
    "## 9) Data ethics & reproducibility (quick checklist)\n",
    "- **Responsible:** Use datasets appropriately; respect privacy and licenses.\n",
    "- **Equitable:** Look for bias (e.g., class imbalance); consider subgroup performance.\n",
    "- **Traceable:** Record versions, parameters, seeds, and the steps you took.\n",
    "- **Reliable:** Validate results; consider failure modes and edge cases.\n",
    "- **Governable:** Make it easy to review, fix, or roll back changes.\n",
    "\n",
    "**Pro tip:** Add a short markdown cell at the end of your analysis explaining decisions and next steps.\n"
   ]
  },
  {
   "cell_type": "markdown",
   "id": "8daf5fb2",
   "metadata": {},
   "source": [
    "## 10) Wrap‑up\n",
    "You’ve learned the basics of Jupyter, pandas, and matplotlib, and you explored three tiny datasets.  \n",
    "Next steps:\n",
    "- Try a larger dataset (e.g., Kaggle).  \n",
    "- Learn scikit‑learn for modeling (classification/regression).  \n",
    "- Practice telling a story with your charts and summaries.\n"
   ]
  }
 ],
 "metadata": {},
 "nbformat": 4,
 "nbformat_minor": 5
}
