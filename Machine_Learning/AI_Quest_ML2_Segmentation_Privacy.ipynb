{
 "cells": [
  {
   "cell_type": "markdown",
   "id": "4e14f3c6",
   "metadata": {},
   "source": [
    "# AI Quest — ML Model Development Problem 2  \n",
    "**Title:** Segments & Sensitivity: Clustering with a Privacy Twist (Unsupervised)\n",
    "\n",
    "## Scenario\n",
    "You must segment users for personalized messaging. Clustering should be **useful** yet **respect privacy** and **avoid disparate impact** on a protected group.\n",
    "\n",
    "## Objectives\n",
    "- Data cleaning & scaling\n",
    "- Compare **KMeans** and **Gaussian Mixture** (or DBSCAN)\n",
    "- Model selection: choose K via **elbow & silhouette**\n",
    "- Validation: **stability via bootstrapping**\n",
    "- **Ethics:** evaluate whether clusters disproportionately isolate a protected group; implement a simple **differential-privacy-like noise** mechanism and discuss the utility trade‑off.\n",
    "\n",
    "## Deliverables\n",
    "1. Notebook that fits ≥2 clustering methods, chooses K, and compares solutions\n",
    "2. Stability analysis over bootstraps (e.g., Adjusted Rand Index)\n",
    "3. Fairness analysis across clusters (distribution by protected attribute)\n",
    "4. A small **Data Sheet** Markdown cell describing privacy choices and limitations\n",
    "\n",
    "## Scoring (auto-checked in notebook)\n",
    "- Silhouette ≥ 0.35 **without** privacy noise (20 pts)\n",
    "- Stability ARI median ≥ 0.40 (20 pts)\n",
    "- After adding noise, silhouette drop ≤ 0.15 absolute (utility preserved) (20 pts)\n",
    "- Fairness check reported + no cluster with >70% from one group unless justified (20 pts)\n",
    "- Data Sheet provided (20 pts)\n",
    "\n",
    "**Total:** 100 pts\n",
    "\n",
    "## Ethics Notes\n",
    "- **Fairness:** check protected group representation per cluster\n",
    "- **Transparency & Explainability:** document K choice, method selection, and noise parameter\n",
    "- **Privacy:** add Gaussian noise to features; discuss trade-offs\n",
    "- **Human Agency:** recommend human override when segment-driven actions affect individuals\n",
    "\n",
    "---\n",
    "\n",
    "**How to run**\n",
    "Open `AI_Quest_ML2_Segmentation_Privacy.ipynb` and follow TODOs."
   ]
  },
  {
   "cell_type": "code",
   "execution_count": null,
   "id": "d56f9fdc",
   "metadata": {},
   "outputs": [],
   "source": [
    "# Optional: install packages locally\n",
    "# !pip -q install pandas numpy scikit-learn matplotlib\n",
    "\n",
    "import numpy as np, pandas as pd, matplotlib.pyplot as plt\n",
    "from sklearn.preprocessing import StandardScaler\n",
    "from sklearn.cluster import KMeans\n",
    "from sklearn.mixture import GaussianMixture\n",
    "from sklearn.metrics import silhouette_score, adjusted_rand_score\n",
    "\n",
    "RANDOM_SEED = 7\n",
    "np.random.seed(RANDOM_SEED)\n",
    "print(\"✅ Imports OK\")"
   ]
  },
  {
   "cell_type": "markdown",
   "id": "db33b5e7",
   "metadata": {},
   "source": [
    "## 1) Synthetic data with a protected attribute"
   ]
  },
  {
   "cell_type": "code",
   "execution_count": null,
   "id": "4b563a00",
   "metadata": {},
   "outputs": [],
   "source": [
    "n = 1500\n",
    "# Underlying clusters\n",
    "centers = np.array([[0,0],[3.5,3.5],[0,5.5]])\n",
    "X_core = np.vstack([np.random.normal(loc=c, scale=[0.9,0.7], size=(n//3,2)) for c in centers])\n",
    "\n",
    "# Protected attribute correlated with one region\n",
    "prot = np.where(X_core[:,0] + 0.5*X_core[:,1] > 4.0, \"B\", \"A\")\n",
    "\n",
    "# Two more behavioral features\n",
    "f3 = 0.8*X_core[:,0] + np.random.normal(0,1.0,size=n)\n",
    "f4 = 0.5*X_core[:,1] + np.random.normal(0,1.0,size=n)\n",
    "\n",
    "df = pd.DataFrame({\"f1\":X_core[:,0], \"f2\":X_core[:,1], \"f3\":f3, \"f4\":f4, \"group\":prot})\n",
    "df.head()"
   ]
  },
  {
   "cell_type": "markdown",
   "id": "bcd3e9d1",
   "metadata": {},
   "source": [
    "### TODO 1 — Scale and explore K via elbow & silhouette"
   ]
  },
  {
   "cell_type": "code",
   "execution_count": null,
   "id": "f1b928f7",
   "metadata": {},
   "outputs": [],
   "source": [
    "num_cols = [\"f1\",\"f2\",\"f3\",\"f4\"]\n",
    "scaler = StandardScaler()\n",
    "X = scaler.fit_transform(df[num_cols])\n",
    "\n",
    "sil = {}\n",
    "for k in range(2,7):\n",
    "    km = KMeans(n_clusters=k, n_init=10, random_state=RANDOM_SEED).fit(X)\n",
    "    sil[k] = silhouette_score(X, km.labels_)\n",
    "sil"
   ]
  },
  {
   "cell_type": "markdown",
   "id": "d18e348f",
   "metadata": {},
   "source": [
    "### TODO 2 — Fit two methods (KMeans & GaussianMixture), pick one"
   ]
  },
  {
   "cell_type": "code",
   "execution_count": null,
   "id": "74c974ff",
   "metadata": {},
   "outputs": [],
   "source": [
    "best_k = max(sil, key=sil.get)\n",
    "km = KMeans(n_clusters=best_k, n_init=10, random_state=RANDOM_SEED).fit(X)\n",
    "gmm = GaussianMixture(n_components=best_k, random_state=RANDOM_SEED).fit(X)\n",
    "\n",
    "labels_km = km.labels_\n",
    "labels_gmm = gmm.predict(X)\n",
    "\n",
    "sil_km = silhouette_score(X, labels_km)\n",
    "sil_gmm = silhouette_score(X, labels_gmm)\n",
    "print({\"sil_km\": sil_km, \"sil_gmm\": sil_gmm, \"best_k\": best_k})\n",
    "\n",
    "labels = labels_km if sil_km >= sil_gmm else labels_gmm\n",
    "method = \"KMeans\" if sil_km >= sil_gmm else \"GMM\"\n",
    "print(\"Selected method:\", method)"
   ]
  },
  {
   "cell_type": "markdown",
   "id": "68a950eb",
   "metadata": {},
   "source": [
    "### TODO 3 — Stability via bootstrapping (ARI)"
   ]
  },
  {
   "cell_type": "code",
   "execution_count": null,
   "id": "db2a4d58",
   "metadata": {},
   "outputs": [],
   "source": [
    "def bootstrap_ari(X, labels, method, k, B=20):\n",
    "    rng = np.random.default_rng(RANDOM_SEED)\n",
    "    aris = []\n",
    "    for b in range(B):\n",
    "        idx = rng.choice(len(X), size=len(X), replace=True)\n",
    "        Xb = X[idx]\n",
    "        if method==\"KMeans\":\n",
    "            m = KMeans(n_clusters=k, n_init=10, random_state=RANDOM_SEED).fit(Xb)\n",
    "            lb = m.labels_\n",
    "        else:\n",
    "            m = GaussianMixture(n_components=k, random_state=RANDOM_SEED).fit(Xb)\n",
    "            lb = m.predict(Xb)\n",
    "        # Compare bootstrap clustering to original model’s labels on same subsample indices\n",
    "        aris.append(adjusted_rand_score(labels[idx], lb))\n",
    "    return np.median(aris), np.percentile(aris, [25,75])\n",
    "\n",
    "ari_med, ari_iqr = bootstrap_ari(X, labels, method, best_k, B=25)\n",
    "print({\"ari_median\": float(ari_med), \"ari_IQR\": [float(ari_iqr[0]), float(ari_iqr[1])]})"
   ]
  },
  {
   "cell_type": "markdown",
   "id": "096a73bf",
   "metadata": {},
   "source": [
    "### TODO 4 — Fairness: distribution by protected group per cluster"
   ]
  },
  {
   "cell_type": "code",
   "execution_count": null,
   "id": "9fbc3a21",
   "metadata": {},
   "outputs": [],
   "source": [
    "tab = pd.crosstab(pd.Series(labels, name=\"cluster\"), df[\"group\"])\n",
    "share = tab.div(tab.sum(1), axis=0)\n",
    "print(\"Counts:\\n\", tab, \"\\n\\nShares by cluster:\\n\", share)\n",
    "\n",
    "# Simple rule: flag clusters with >70% from one group\n",
    "flags = (share.max(1) > 0.70)\n",
    "flags"
   ]
  },
  {
   "cell_type": "markdown",
   "id": "05b0326d",
   "metadata": {},
   "source": [
    "### TODO 5 — Privacy: add noise and compare utility"
   ]
  },
  {
   "cell_type": "code",
   "execution_count": null,
   "id": "8cd88412",
   "metadata": {},
   "outputs": [],
   "source": [
    "epsilon_like = 0.6  # smaller -> more noise\n",
    "noise_scale = 0.6 / max(epsilon_like, 1e-3)  # toy mapping\n",
    "\n",
    "X_noisy = X + np.random.normal(0, noise_scale, size=X.shape)\n",
    "\n",
    "if method==\"KMeans\":\n",
    "    m2 = KMeans(n_clusters=best_k, n_init=10, random_state=RANDOM_SEED).fit(X_noisy)\n",
    "    labels2 = m2.labels_\n",
    "else:\n",
    "    m2 = GaussianMixture(n_components=best_k, random_state=RANDOM_SEED).fit(X_noisy)\n",
    "    labels2 = m2.predict(X_noisy)\n",
    "\n",
    "sil2 = silhouette_score(X_noisy, labels2)\n",
    "\n",
    "print({\"sil_original\": float(silhouette_score(X, labels)), \"sil_noisy\": float(sil2), \"abs_drop\": float(silhouette_score(X, labels) - sil2)})"
   ]
  },
  {
   "cell_type": "markdown",
   "id": "c269ab87",
   "metadata": {},
   "source": [
    "### TODO 6 — Data Sheet (Markdown)\n",
    "Describe: synthetic data, protected attribute, K choice, method, noise parameter, fairness findings, and human oversight recommendations."
   ]
  },
  {
   "cell_type": "code",
   "execution_count": null,
   "id": "e951579a",
   "metadata": {},
   "outputs": [],
   "source": [
    "# === Auto-Scoring ===\n",
    "score = 0\n",
    "sil0 = silhouette_score(X, labels)\n",
    "sil_pass = sil0 >= 0.35\n",
    "if sil_pass: score += 20\n",
    "\n",
    "ari_med, _ = bootstrap_ari(X, labels, method, best_k, B=20)\n",
    "ari_pass = (ari_med >= 0.40)\n",
    "if ari_pass: score += 20\n",
    "\n",
    "sil_noise = silhouette_score(X_noisy, labels2)\n",
    "abs_drop = sil0 - sil_noise\n",
    "drop_pass = (abs_drop <= 0.15)\n",
    "if drop_pass: score += 20\n",
    "\n",
    "tab = pd.crosstab(pd.Series(labels, name=\"cluster\"), df[\"group\"])\n",
    "share = tab.div(tab.sum(1), axis=0)\n",
    "fair_pass = (share.max(1) <= 0.70).all()  # or justified\n",
    "# For auto-score, assume justified if not passed; contestants can toggle this variable after justification:\n",
    "justified = False\n",
    "if fair_pass or justified: score += 20\n",
    "\n",
    "data_sheet_claim = True  # set True after you add it\n",
    "if data_sheet_claim: score += 20\n",
    "\n",
    "summary = {\n",
    "    \"silhouette\": float(sil0),\n",
    "    \"ari_median\": float(ari_med),\n",
    "    \"silhouette_noisy\": float(sil_noise),\n",
    "    \"abs_drop\": float(abs_drop),\n",
    "    \"fair_clusters_ok_or_justified\": bool(fair_pass or justified),\n",
    "    \"score\": int(score)\n",
    "}\n",
    "print(\"✅ Final Summary:\", summary)"
   ]
  }
 ],
 "metadata": {},
 "nbformat": 4,
 "nbformat_minor": 5
}
