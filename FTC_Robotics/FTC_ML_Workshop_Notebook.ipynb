{
 "cells": [
  {
   "cell_type": "markdown",
   "id": "d6377d8a",
   "metadata": {},
   "source": [
    "\n",
    "# FTC ML Workshop: From Data to Model (with TFLite)\n",
    "\n",
    "This notebook is designed for **FTC teams** who want to understand **how Machine Learning works** instead of treating it as a black box. You'll:\n",
    "- Explore and analyze data\n",
    "- Train and evaluate models\n",
    "- Understand common pitfalls (overfitting, data imbalance, leakage)\n",
    "- Export a lightweight **TensorFlow Lite (TFLite)** model\n",
    "- See how this maps to **FTC workflows** (VisionPortal + TFOD / FTC-ML)\n"
   ]
  },
  {
   "cell_type": "markdown",
   "id": "1aea6a78",
   "metadata": {},
   "source": [
    "## 0) Setup"
   ]
  },
  {
   "cell_type": "code",
   "execution_count": null,
   "id": "b6e258e5",
   "metadata": {},
   "outputs": [],
   "source": [
    "\n",
    "import numpy as np\n",
    "import pandas as pd\n",
    "import matplotlib.pyplot as plt\n",
    "\n",
    "from sklearn.datasets import load_iris\n",
    "from sklearn.model_selection import train_test_split, cross_val_score\n",
    "from sklearn.preprocessing import StandardScaler\n",
    "from sklearn.pipeline import Pipeline\n",
    "from sklearn.metrics import accuracy_score, classification_report, confusion_matrix, ConfusionMatrixDisplay\n",
    "from sklearn.linear_model import LogisticRegression\n",
    "from sklearn.ensemble import RandomForestClassifier\n",
    "\n",
    "import tensorflow as tf\n",
    "from tensorflow.keras import layers, models\n",
    "\n",
    "print(\"numpy\", np.__version__)\n",
    "print(\"pandas\", pd.__version__)\n",
    "import sklearn\n",
    "print(\"scikit-learn\", sklearn.__version__)\n",
    "print(\"tensorflow\", tf.__version__)\n"
   ]
  },
  {
   "cell_type": "markdown",
   "id": "bf9b58fd",
   "metadata": {},
   "source": [
    "\n",
    "## 1) The ML Process\n",
    "1. Define the problem\n",
    "2. Collect and label data\n",
    "3. Split into train/test\n",
    "4. Train a model\n",
    "5. Evaluate on test set\n",
    "6. Iterate to improve\n",
    "7. Export deployable model (.tflite for FTC)\n",
    "8. Deploy & monitor\n"
   ]
  },
  {
   "cell_type": "markdown",
   "id": "a3e16b9e",
   "metadata": {},
   "source": [
    "## 2) Tabular Example: Iris dataset"
   ]
  },
  {
   "cell_type": "code",
   "execution_count": null,
   "id": "46196820",
   "metadata": {},
   "outputs": [],
   "source": [
    "\n",
    "iris = load_iris(as_frame=True)\n",
    "df = iris.frame.copy()\n",
    "df.head()\n"
   ]
  },
  {
   "cell_type": "code",
   "execution_count": null,
   "id": "6cb79fe9",
   "metadata": {},
   "outputs": [],
   "source": [
    "\n",
    "df.describe()\n"
   ]
  },
  {
   "cell_type": "code",
   "execution_count": null,
   "id": "fd596f61",
   "metadata": {},
   "outputs": [],
   "source": [
    "\n",
    "X = df[iris.feature_names].values\n",
    "y = df['target'].values\n",
    "X_train, X_test, y_train, y_test = train_test_split(X, y, test_size=0.2, stratify=y, random_state=42)\n",
    "\n",
    "logreg_pipeline = Pipeline([\n",
    "    (\"scaler\", StandardScaler()),\n",
    "    (\"clf\", LogisticRegression(max_iter=1000))\n",
    "])\n",
    "logreg_pipeline.fit(X_train, y_train)\n",
    "y_pred = logreg_pipeline.predict(X_test)\n",
    "print(\"Accuracy:\", accuracy_score(y_test, y_pred))\n",
    "ConfusionMatrixDisplay.from_predictions(y_test, y_pred)\n",
    "plt.show()\n"
   ]
  },
  {
   "cell_type": "code",
   "execution_count": null,
   "id": "5b94791d",
   "metadata": {},
   "outputs": [],
   "source": [
    "\n",
    "rf_pipeline = Pipeline([(\"clf\", RandomForestClassifier(n_estimators=200, random_state=42))])\n",
    "rf_pipeline.fit(X_train, y_train)\n",
    "y_pred_rf = rf_pipeline.predict(X_test)\n",
    "print(\"RF Accuracy:\", accuracy_score(y_test, y_pred_rf))\n",
    "ConfusionMatrixDisplay.from_predictions(y_test, y_pred_rf)\n",
    "plt.show()\n"
   ]
  },
  {
   "cell_type": "markdown",
   "id": "abcfa983",
   "metadata": {},
   "source": [
    "## 3) Vision Example: MNIST → TFLite"
   ]
  },
  {
   "cell_type": "code",
   "execution_count": null,
   "id": "ab9c20a3",
   "metadata": {},
   "outputs": [],
   "source": [
    "\n",
    "(mnist_x_train, mnist_y_train), (mnist_x_test, mnist_y_test) = tf.keras.datasets.mnist.load_data()\n",
    "mnist_x_train = mnist_x_train.astype(\"float32\")/255.0\n",
    "mnist_x_test = mnist_x_test.astype(\"float32\")/255.0\n",
    "mnist_x_train = np.expand_dims(mnist_x_train, -1)\n",
    "mnist_x_test = np.expand_dims(mnist_x_test, -1)\n",
    "\n",
    "model = models.Sequential([\n",
    "    layers.Input(shape=(28,28,1)),\n",
    "    layers.Conv2D(16,3,activation=\"relu\"), layers.MaxPooling2D(),\n",
    "    layers.Conv2D(32,3,activation=\"relu\"), layers.MaxPooling2D(),\n",
    "    layers.Flatten(),\n",
    "    layers.Dense(64,activation=\"relu\"),\n",
    "    layers.Dense(10,activation=\"softmax\")\n",
    "])\n",
    "model.compile(optimizer=\"adam\", loss=\"sparse_categorical_crossentropy\", metrics=[\"accuracy\"])\n",
    "model.fit(mnist_x_train, mnist_y_train, validation_split=0.1, epochs=3, batch_size=128, verbose=1)\n",
    "print(\"Test acc:\", model.evaluate(mnist_x_test, mnist_y_test, verbose=0))\n"
   ]
  },
  {
   "cell_type": "code",
   "execution_count": null,
   "id": "51abb7fc",
   "metadata": {},
   "outputs": [],
   "source": [
    "\n",
    "converter = tf.lite.TFLiteConverter.from_keras_model(model)\n",
    "tflite_model = converter.convert()\n",
    "with open(\"mnist_cnn.tflite\",\"wb\") as f: f.write(tflite_model)\n",
    "print(\"Saved mnist_cnn.tflite, size:\", len(tflite_model))\n"
   ]
  },
  {
   "cell_type": "markdown",
   "id": "adb751c1",
   "metadata": {},
   "source": [
    "\n",
    "---\n",
    "## Appendix: FTC‑ML 300×300 Helper\n",
    "\n",
    "FTC‑ML resizes all training images to **300×300**.  \n",
    "This helper function letterboxes any image to that size while preserving aspect ratio.\n"
   ]
  },
  {
   "cell_type": "code",
   "execution_count": null,
   "id": "845a8105",
   "metadata": {},
   "outputs": [],
   "source": [
    "\n",
    "import cv2, numpy as np\n",
    "\n",
    "def letterbox_300(img):\n",
    "    H, W = img.shape[:2]\n",
    "    scale = min(300/W, 300/H)\n",
    "    nw, nh = int(round(W*scale)), int(round(H*scale))\n",
    "    resized = cv2.resize(img, (nw, nh), interpolation=cv2.INTER_AREA)\n",
    "    canvas = np.zeros((300,300,3), dtype=img.dtype)\n",
    "    x0 = (300-nw)//2; y0=(300-nh)//2\n",
    "    canvas[y0:y0+nh, x0:x0+nw] = resized\n",
    "    return canvas, scale, x0, y0\n"
   ]
  }
 ],
 "metadata": {},
 "nbformat": 4,
 "nbformat_minor": 5
}
